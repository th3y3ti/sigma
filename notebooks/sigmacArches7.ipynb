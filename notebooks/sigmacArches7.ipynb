{
 "cells": [
  {
   "cell_type": "markdown",
   "metadata": {},
   "source": [
    "# Arches 7 - simac demo"
   ]
  },
  {
   "cell_type": "markdown",
   "metadata": {},
   "source": [
    "One of the threat actor techniques we discussed during the workshop was detecting webshell's. The following interactive demo shows how to convert a sigma yaml file into a carbon black search for webshells launching unusual binaries such as cmd.exe, sh.exe, bash.exe, powershell.exe, and bitsadmin.exe. You can of course replace the yaml file name and try other sigma rules in this workbook. If you want to modify the sigma rule to add more or less processes, you will need to use the sigmac tool locally. I have included the link to the source of the yaml file from the official sigma repo. This is a fork of that repo which is why we can add arbitrary notebooks such as these.\n",
    "\n",
    "### Authoritative source of the sigma yaml rule for webshell detection\n",
    "\n",
    "#### https://github.com/Neo23x0/sigma/blob/master/rules/windows/process_creation/win_webshell_spawn.yml"
   ]
  },
  {
   "cell_type": "markdown",
   "metadata": {},
   "source": [
    "### here is what the command line looks like (ctrl + enter to run it or click run above)"
   ]
  },
  {
   "cell_type": "code",
   "execution_count": null,
   "metadata": {},
   "outputs": [],
   "source": [
    "!python ../tools/sigmac --target carbonblack --config carbon-black ../rules/windows/process_creation/win_webshell_spawn.yml"
   ]
  },
  {
   "cell_type": "markdown",
   "metadata": {},
   "source": [
    "### simplified using variables"
   ]
  },
  {
   "cell_type": "code",
   "execution_count": null,
   "metadata": {},
   "outputs": [],
   "source": [
    "# Feel free to replace the variables with other sigma rules (.yml files). \n",
    "\n",
    "print(\"Here is your query. Use it in good health.\")\n",
    "\n",
    "target = \"carbonblack\"\n",
    "config = \"carbon-black\"\n",
    "rule = \"windows/process_creation/win_process_creation_bitsadmin_download.yml\"\n",
    "\n",
    "!python ../tools/sigmac --target {target} --config {config} ../rules/{rule}"
   ]
  },
  {
   "cell_type": "markdown",
   "metadata": {},
   "source": [
    "For your reference, here is a link to the MITRE Technique that gives an explanation of webshells and some examples so you know what you are looking for.\n",
    "\n",
    "## MITRE Technique T1100 (Web Shell)\n",
    "#### https://attack.mitre.org/techniques/T1100/"
   ]
  }
 ],
 "metadata": {
  "kernelspec": {
   "display_name": "Python 3",
   "language": "python",
   "name": "python3"
  },
  "language_info": {
   "codemirror_mode": {
    "name": "ipython",
    "version": 3
   },
   "file_extension": ".py",
   "mimetype": "text/x-python",
   "name": "python",
   "nbconvert_exporter": "python",
   "pygments_lexer": "ipython3",
   "version": "3.7.6"
  }
 },
 "nbformat": 4,
 "nbformat_minor": 4
}
