{
 "cells": [
  {
   "cell_type": "markdown",
   "metadata": {},
   "source": [
    "# Sigma\n",
    "\n",
    "The `sigma` project defines a generic, `YAML`-based pattern matching syntax (similar to `yara`) that allows hunters to define their logic in a database-agnostic way."
   ]
  },
  {
   "cell_type": "markdown",
   "metadata": {},
   "source": [
    "## Basic Usage\n",
    "\n",
    "`sigma` also provides a toolchain to convert these rules into search queries that are consumable by a number of different backend databases and data models. The tool `sigmac` handles the conversion from the `sigma` rule syntax into a query that your database can understand. The `--help` text can be a little intimidating..."
   ]
  },
  {
   "cell_type": "code",
   "execution_count": null,
   "metadata": {
    "scrolled": false
   },
   "outputs": [],
   "source": [
    "!python ../tools/sigmac --help"
   ]
  },
  {
   "cell_type": "markdown",
   "metadata": {},
   "source": [
    "But really there are only a few core concepts that we need to introduce. To start, we can use the `--list` flag to identify the `target` and `config` options that we need to pass on the commandline:"
   ]
  },
  {
   "cell_type": "code",
   "execution_count": null,
   "metadata": {},
   "outputs": [],
   "source": [
    "!python ../tools/sigmac --list"
   ]
  },
  {
   "cell_type": "markdown",
   "metadata": {},
   "source": [
    "The `target` (or `backend`) for the `sigma` conversion defines the syntax that the resulting query will have. The `config` defines the data model that converts field names from one schema to another. Since we are interested in converting `sigma` rules into Carbon Black queries, we will add `--target carbonblack` and `--config carbon-black` to our commandline:"
   ]
  },
  {
   "cell_type": "code",
   "execution_count": null,
   "metadata": {},
   "outputs": [],
   "source": [
    "!python ../tools/sigmac --target carbonblack --config carbon-black ../rules/windows/process_creation/win_local_system_owner_account_discovery.yml"
   ]
  },
  {
   "cell_type": "markdown",
   "metadata": {},
   "source": [
    "If we indexed Windows Security/4688 events using `WinLogBeat` and wanted to find the same activity in `elasticsearch`, we could pass a different `target` syntax to convert the same rule to different query syntaxes. For example, here is the `lucene` query string version of the same `sigma` rule:"
   ]
  },
  {
   "cell_type": "code",
   "execution_count": null,
   "metadata": {},
   "outputs": [],
   "source": [
    "!python ../tools/sigmac --target es-qs --config winlogbeat ../rules/windows/process_creation/win_local_system_owner_account_discovery.yml"
   ]
  },
  {
   "cell_type": "markdown",
   "metadata": {},
   "source": [
    "Or SQL!"
   ]
  },
  {
   "cell_type": "code",
   "execution_count": null,
   "metadata": {},
   "outputs": [],
   "source": [
    "!python ../tools/sigmac --target sql --config windows-audit ../rules/windows/process_creation/win_local_system_owner_account_discovery.yml"
   ]
  },
  {
   "cell_type": "markdown",
   "metadata": {},
   "source": [
    "Or ingesting `sysmon` data in Azure Sentinel:"
   ]
  },
  {
   "cell_type": "code",
   "execution_count": null,
   "metadata": {},
   "outputs": [],
   "source": [
    "!python ../tools/sigmac --target ala --config sysmon ../rules/windows/process_creation/win_local_system_owner_account_discovery.yml"
   ]
  },
  {
   "cell_type": "code",
   "execution_count": null,
   "metadata": {},
   "outputs": [],
   "source": [
    "!python ../tools/sigma2attack --rules-directory ../rules/windows/process_creation"
   ]
  }
 ],
 "metadata": {
  "kernelspec": {
   "display_name": "Python 3",
   "language": "python",
   "name": "python3"
  },
  "language_info": {
   "codemirror_mode": {
    "name": "ipython",
    "version": 3
   },
   "file_extension": ".py",
   "mimetype": "text/x-python",
   "name": "python",
   "nbconvert_exporter": "python",
   "pygments_lexer": "ipython3",
   "version": "3.7.6"
  },
  "varInspector": {
   "cols": {
    "lenName": 16,
    "lenType": 16,
    "lenVar": 40
   },
   "kernels_config": {
    "python": {
     "delete_cmd_postfix": "",
     "delete_cmd_prefix": "del ",
     "library": "var_list.py",
     "varRefreshCmd": "print(var_dic_list())"
    },
    "r": {
     "delete_cmd_postfix": ") ",
     "delete_cmd_prefix": "rm(",
     "library": "var_list.r",
     "varRefreshCmd": "cat(var_dic_list()) "
    }
   },
   "types_to_exclude": [
    "module",
    "function",
    "builtin_function_or_method",
    "instance",
    "_Feature"
   ],
   "window_display": false
  }
 },
 "nbformat": 4,
 "nbformat_minor": 4
}
